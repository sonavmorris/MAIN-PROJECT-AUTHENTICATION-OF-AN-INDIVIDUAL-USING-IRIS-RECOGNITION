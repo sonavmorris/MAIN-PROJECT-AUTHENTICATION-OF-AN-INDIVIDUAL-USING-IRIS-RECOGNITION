{
  "nbformat": 4,
  "nbformat_minor": 0,
  "metadata": {
    "colab": {
      "provenance": [],
      "authorship_tag": "ABX9TyNwE23gYmHmTaQcI8OGIK4p",
      "include_colab_link": true
    },
    "kernelspec": {
      "name": "python3",
      "display_name": "Python 3"
    },
    "language_info": {
      "name": "python"
    }
  },
  "cells": [
    {
      "cell_type": "markdown",
      "metadata": {
        "id": "view-in-github",
        "colab_type": "text"
      },
      "source": [
        "<a href=\"https://colab.research.google.com/github/sonavmorris/MAIN-PROJECT-AUTHENTICATION-OF-AN-INDIVIDUAL-USING-IRIS-RECOGNITION/blob/main/Untitled18.ipynb\" target=\"_parent\"><img src=\"https://colab.research.google.com/assets/colab-badge.svg\" alt=\"Open In Colab\"/></a>"
      ]
    },
    {
      "cell_type": "code",
      "execution_count": 2,
      "metadata": {
        "id": "JYXNeGdQQz6J"
      },
      "outputs": [],
      "source": [
        "import webbrowser\n",
        "import numpy as np\n",
        "import torch\n",
        "import torch.nn.functional as F\n",
        "import torch.optim as optim\n",
        "import torch.utils.data as data_utils\n",
        "import torchvision \n",
        "from PIL import Image, ImageFile \n",
        "from torch import nn \n",
        "from torch import optim as optim \n",
        "from torch.autograd import Variable \n",
        "from torch.optim import lr_scheduler\n",
        "from torch.utils.data import DataLoader, Dataset \n",
        "from torch.utils.data.sampler import SubsetRandomSampler \n",
        "from torchvision import datasets, models, transforms \n",
        "import cv2\n",
        "\n"
      ]
    },
    {
      "cell_type": "code",
      "source": [],
      "metadata": {
        "id": "g12kiEcFh3my"
      },
      "execution_count": null,
      "outputs": []
    },
    {
      "cell_type": "code",
      "source": [],
      "metadata": {
        "id": "j8nZCexgh34L"
      },
      "execution_count": null,
      "outputs": []
    },
    {
      "cell_type": "code",
      "source": [],
      "metadata": {
        "id": "rMJCmG3kh4GX"
      },
      "execution_count": null,
      "outputs": []
    }
  ]
}