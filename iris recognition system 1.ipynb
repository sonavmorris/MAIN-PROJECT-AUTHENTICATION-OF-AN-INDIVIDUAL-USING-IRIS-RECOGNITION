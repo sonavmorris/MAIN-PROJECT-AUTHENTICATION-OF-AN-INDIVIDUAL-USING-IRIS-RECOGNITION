{
  "nbformat": 4,
  "nbformat_minor": 0,
  "metadata": {
    "colab": {
      "provenance": [],
      "authorship_tag": "ABX9TyO7Avgmfy5O0IrbMtqZbIX5",
      "include_colab_link": true
    },
    "kernelspec": {
      "name": "python3",
      "display_name": "Python 3"
    },
    "language_info": {
      "name": "python"
    }
  },
  "cells": [
    {
      "cell_type": "markdown",
      "metadata": {
        "id": "view-in-github",
        "colab_type": "text"
      },
      "source": [
        "<a href=\"https://colab.research.google.com/github/sonavmorris/MAIN-PROJECT-AUTHENTICATION-OF-AN-INDIVIDUAL-USING-IRIS-RECOGNITION/blob/main/iris%20recognition%20system%201.ipynb\" target=\"_parent\"><img src=\"https://colab.research.google.com/assets/colab-badge.svg\" alt=\"Open In Colab\"/></a>"
      ]
    },
    {
      "cell_type": "code",
      "source": [
        "import os"
      ],
      "metadata": {
        "id": "XlOWqiN4AbSr"
      },
      "execution_count": 1,
      "outputs": []
    },
    {
      "cell_type": "code",
      "execution_count": 2,
      "metadata": {
        "colab": {
          "base_uri": "https://localhost:8080/"
        },
        "id": "nPogRbPD_IPY",
        "outputId": "cab74f1c-704a-4982-905f-0e99221cc960"
      },
      "outputs": [
        {
          "output_type": "stream",
          "name": "stdout",
          "text": [
            "Mounted at /content/drive\n"
          ]
        }
      ],
      "source": [
        "from google.colab import drive\n",
        "drive.mount('/content/drive')"
      ]
    },
    {
      "cell_type": "code",
      "source": [
        "main_folder=\"/content/drive/MyDrive/Main project\"\n",
        "class_names=os.listdir(main_folder)\n",
        "print(class_names)\n"
      ],
      "metadata": {
        "colab": {
          "base_uri": "https://localhost:8080/"
        },
        "id": "uiNCo2bJ_a9Z",
        "outputId": "67cf83ca-aef8-4a00-9f25-5f0cad023c2a"
      },
      "execution_count": 3,
      "outputs": [
        {
          "output_type": "stream",
          "name": "stdout",
          "text": [
            "['Ali Habib', 'Mohamed Bebo', 'Mohamed Labib', 'Ahmed Amr', 'Mohamed Mokhtar']\n"
          ]
        }
      ]
    },
    {
      "cell_type": "code",
      "source": [
        "validation_folder=\"/content/drive/MyDrive/Main project\"\n",
        "val_class_names=os.listdir(validation_folder)\n",
        "print(val_class_names)"
      ],
      "metadata": {
        "colab": {
          "base_uri": "https://localhost:8080/"
        },
        "id": "gr-yPNf3_bAM",
        "outputId": "8dbacee9-e8d3-406e-d1de-867638a989b3"
      },
      "execution_count": 4,
      "outputs": [
        {
          "output_type": "stream",
          "name": "stdout",
          "text": [
            "['Ali Habib', 'Mohamed Bebo', 'Mohamed Labib', 'Ahmed Amr', 'Mohamed Mokhtar']\n"
          ]
        }
      ]
    },
    {
      "cell_type": "code",
      "source": [
        "from PIL import Image"
      ],
      "metadata": {
        "id": "aSJINBCQFEUx"
      },
      "execution_count": 5,
      "outputs": []
    },
    {
      "cell_type": "code",
      "source": [
        "data_folder = \"/content/drive/MyDrive/Main project\"\n",
        "\n",
        "def process_files(folder):\n",
        "    for entry in os.scandir(folder):\n",
        "        if entry.is_file() and entry.name.endswith('.jpg'):\n",
        "            image = Image.open(entry.path)\n",
        "            image = image.resize((256, 256))\n",
        "            image = image.convert('L')\n",
        "            image.save(entry.path)\n",
        "        elif entry.is_dir():\n",
        "            process_files(entry.path)\n",
        "\n",
        "process_files(data_folder) "
      ],
      "metadata": {
        "id": "2m8HD_bP_bFQ"
      },
      "execution_count": 6,
      "outputs": []
    },
    {
      "cell_type": "code",
      "source": [
        "print(data_folder)"
      ],
      "metadata": {
        "id": "vEa09C2T_bPJ",
        "colab": {
          "base_uri": "https://localhost:8080/"
        },
        "outputId": "f33ff656-e5e4-4d92-d79f-871bed1b72e5"
      },
      "execution_count": 8,
      "outputs": [
        {
          "output_type": "stream",
          "name": "stdout",
          "text": [
            "/content/drive/MyDrive/Main project\n"
          ]
        }
      ]
    },
    {
      "cell_type": "code",
      "source": [
        "import cv2\n",
        "import numpy as np"
      ],
      "metadata": {
        "id": "af1RQsH1Xv5_"
      },
      "execution_count": 18,
      "outputs": []
    },
    {
      "cell_type": "code",
      "source": [
        "def segment_iris(image):\n",
        "    gray = cv2.cvtColor(image, cv2.COLOR_BGR2GRAY)\n",
        "    blurred = cv2.GaussianBlur(gray, (5, 5), 0)\n",
        "    edges = cv2.Canny(blurred, 50, 150)\n",
        "    circles = cv2.HoughCircles(edges, cv2.HOUGH_GRADIENT, 1, 20,\n",
        "                               param1=50, param2=30, minRadius=0, maxRadius=0)\n",
        "    iris = None\n",
        "\n",
        "    \n",
        "    if circles is not None:\n",
        "        circles = np.round(circles[0, :]).astype(\"int\")\n",
        "        for (x, y, r) in circles:\n",
        "            cv2.circle(image, (x, y), r, (0, 255, 0), 2)\n",
        "            iris = image[y-r:y+r, x-r:x+r]\n",
        "\n",
        "    return iris\n",
        "    "
      ],
      "metadata": {
        "id": "we5xDKEGV6mr"
      },
      "execution_count": 19,
      "outputs": []
    },
    {
      "cell_type": "code",
      "source": [
        "for root, dirs, files in os.walk(data_folder):\n",
        "    for filename in files:\n",
        "        if filename.endswith('.jpg'):\n",
        "          \n",
        "            image = cv2.imread(os.path.join(root, filename))\n",
        "\n",
        "            iris = segment_iris(image)\n",
        "            if iris is not None:\n",
        "                cv2.imwrite(os.path.join(root, 'iris_'+filename), iris)\n"
      ],
      "metadata": {
        "id": "UJS6Jfp5V6kq"
      },
      "execution_count": 20,
      "outputs": []
    },
    {
      "cell_type": "code",
      "source": [
        "from skimage.feature import local_binary_pattern\n",
        "\n",
        "def extract_lbp_features(image):\n",
        "    radius = 1\n",
        "    n_points = 8 * radius\n",
        "    lbp = local_binary_pattern(image, n_points, radius, method='uniform')\n",
        "    return lbp.flatten()"
      ],
      "metadata": {
        "id": "1-kT8H5lV6gu"
      },
      "execution_count": 21,
      "outputs": []
    }
  ]
}