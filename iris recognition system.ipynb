{
  "nbformat": 4,
  "nbformat_minor": 0,
  "metadata": {
    "colab": {
      "provenance": [],
      "authorship_tag": "ABX9TyOWylPOP4u/6AXxnnTCBrpj",
      "include_colab_link": true
    },
    "kernelspec": {
      "name": "python3",
      "display_name": "Python 3"
    },
    "language_info": {
      "name": "python"
    }
  },
  "cells": [
    {
      "cell_type": "markdown",
      "metadata": {
        "id": "view-in-github",
        "colab_type": "text"
      },
      "source": [
        "<a href=\"https://colab.research.google.com/github/sonavmorris/MAIN-PROJECT-AUTHENTICATION-OF-AN-INDIVIDUAL-USING-IRIS-RECOGNITION/blob/main/iris%20recognition%20system.ipynb\" target=\"_parent\"><img src=\"https://colab.research.google.com/assets/colab-badge.svg\" alt=\"Open In Colab\"/></a>"
      ]
    },
    {
      "cell_type": "code",
      "source": [
        "import os"
      ],
      "metadata": {
        "id": "XlOWqiN4AbSr"
      },
      "execution_count": 3,
      "outputs": []
    },
    {
      "cell_type": "code",
      "execution_count": 4,
      "metadata": {
        "colab": {
          "base_uri": "https://localhost:8080/"
        },
        "id": "nPogRbPD_IPY",
        "outputId": "9d4bfa88-f2f5-4878-e2af-05f868e2c9de"
      },
      "outputs": [
        {
          "output_type": "stream",
          "name": "stdout",
          "text": [
            "Drive already mounted at /content/drive; to attempt to forcibly remount, call drive.mount(\"/content/drive\", force_remount=True).\n"
          ]
        }
      ],
      "source": [
        "from google.colab import drive\n",
        "drive.mount('/content/drive')"
      ]
    },
    {
      "cell_type": "code",
      "source": [
        "main_folder=\"/content/drive/MyDrive/Main project\"\n",
        "class_names=os.listdir(main_folder)\n",
        "print(class_names)\n"
      ],
      "metadata": {
        "colab": {
          "base_uri": "https://localhost:8080/"
        },
        "id": "uiNCo2bJ_a9Z",
        "outputId": "b9bdcddb-d9b4-4f52-be85-e5f184c48687"
      },
      "execution_count": 5,
      "outputs": [
        {
          "output_type": "stream",
          "name": "stdout",
          "text": [
            "['Ali Habib', 'Mohamed Bebo', 'Mohamed Labib', 'Ahmed Amr', 'Mohamed Mokhtar']\n"
          ]
        }
      ]
    },
    {
      "cell_type": "code",
      "source": [
        "validation_folder=\"/content/drive/MyDrive/Main project\"\n",
        "val_class_names=os.listdir(validation_folder)\n",
        "print(val_class_names)"
      ],
      "metadata": {
        "colab": {
          "base_uri": "https://localhost:8080/"
        },
        "id": "gr-yPNf3_bAM",
        "outputId": "c74bbbe3-e17c-46b5-97f0-703caa86edb8"
      },
      "execution_count": 6,
      "outputs": [
        {
          "output_type": "stream",
          "name": "stdout",
          "text": [
            "['Ali Habib', 'Mohamed Bebo', 'Mohamed Labib', 'Ahmed Amr', 'Mohamed Mokhtar']\n"
          ]
        }
      ]
    },
    {
      "cell_type": "code",
      "source": [
        "from PIL import Image"
      ],
      "metadata": {
        "id": "aSJINBCQFEUx"
      },
      "execution_count": 7,
      "outputs": []
    },
    {
      "cell_type": "code",
      "source": [
        "for filename in os.listdir(data_folder):\n",
        "    if filename.endswith('.jpg'):\n",
        "      image = Image.open(data_folder + filename)\n",
        "        image = image.resize((256, 256))\n",
        "        image = image.convert('L')\n",
        "        image.save(data_folder + filename)"
      ],
      "metadata": {
        "colab": {
          "base_uri": "https://localhost:8080/",
          "height": 130
        },
        "id": "2oi7BhJU_bCw",
        "outputId": "9aac89d3-e54d-4c6e-e1f5-da3c8f66e10b"
      },
      "execution_count": 8,
      "outputs": [
        {
          "output_type": "error",
          "ename": "IndentationError",
          "evalue": "ignored",
          "traceback": [
            "\u001b[0;36m  File \u001b[0;32m\"<ipython-input-8-10f1a3ed4010>\"\u001b[0;36m, line \u001b[0;32m4\u001b[0m\n\u001b[0;31m    image = image.resize((256, 256))\u001b[0m\n\u001b[0m    ^\u001b[0m\n\u001b[0;31mIndentationError\u001b[0m\u001b[0;31m:\u001b[0m unexpected indent\n"
          ]
        }
      ]
    },
    {
      "cell_type": "code",
      "source": [
        "    "
      ],
      "metadata": {
        "id": "2m8HD_bP_bFQ"
      },
      "execution_count": null,
      "outputs": []
    },
    {
      "cell_type": "code",
      "source": [],
      "metadata": {
        "id": "vEa09C2T_bPJ"
      },
      "execution_count": null,
      "outputs": []
    }
  ]
}